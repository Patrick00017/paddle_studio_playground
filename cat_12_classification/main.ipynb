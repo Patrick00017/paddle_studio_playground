{
 "cells": [
  {
   "cell_type": "code",
   "execution_count": 1,
   "metadata": {
    "collapsed": true
   },
   "outputs": [],
   "source": [
    "import torch\n",
    "import torch.nn as nn\n",
    "import torchvision\n",
    "import numpy as np\n",
    "import os\n",
    "import time\n",
    "import pandas as pd\n",
    "from torch.utils.data import Dataset, DataLoader"
   ]
  },
  {
   "cell_type": "markdown",
   "source": [
    "## prepare the datasets"
   ],
   "metadata": {
    "collapsed": false
   }
  },
  {
   "cell_type": "code",
   "execution_count": 2,
   "outputs": [],
   "source": [
    "batch_size = 16\n",
    "lr = 0.001\n",
    "weight_decay = 0.0001\n",
    "momentum = 0.9\n",
    "num_classes = 12"
   ],
   "metadata": {
    "collapsed": false
   }
  },
  {
   "cell_type": "code",
   "execution_count": 3,
   "outputs": [
    {
     "data": {
      "text/plain": "[tensor([[[[0.1255, 0.1216, 0.1137,  ..., 0.0784, 0.1176, 0.1412],\n           [0.1255, 0.1216, 0.1137,  ..., 0.0745, 0.1137, 0.1373],\n           [0.1216, 0.1176, 0.1098,  ..., 0.0667, 0.1020, 0.1255],\n           ...,\n           [0.1804, 0.1804, 0.1804,  ..., 0.2039, 0.1843, 0.1765],\n           [0.1647, 0.1686, 0.1725,  ..., 0.2000, 0.1804, 0.1725],\n           [0.1608, 0.1647, 0.1686,  ..., 0.2000, 0.1804, 0.1686]],\n \n          [[0.1412, 0.1373, 0.1294,  ..., 0.0902, 0.1294, 0.1529],\n           [0.1412, 0.1373, 0.1294,  ..., 0.0863, 0.1255, 0.1490],\n           [0.1373, 0.1333, 0.1255,  ..., 0.0784, 0.1137, 0.1373],\n           ...,\n           [0.1216, 0.1216, 0.1216,  ..., 0.2471, 0.2314, 0.2275],\n           [0.1059, 0.1098, 0.1137,  ..., 0.2392, 0.2196, 0.2118],\n           [0.1020, 0.1059, 0.1098,  ..., 0.2353, 0.2157, 0.2039]],\n \n          [[0.0824, 0.0784, 0.0706,  ..., 0.0549, 0.0941, 0.1176],\n           [0.0824, 0.0784, 0.0706,  ..., 0.0510, 0.0902, 0.1137],\n           [0.0824, 0.0784, 0.0706,  ..., 0.0431, 0.0784, 0.1020],\n           ...,\n           [0.2471, 0.2471, 0.2471,  ..., 0.2039, 0.1843, 0.1725],\n           [0.2235, 0.2275, 0.2314,  ..., 0.2118, 0.1922, 0.1804],\n           [0.2157, 0.2196, 0.2235,  ..., 0.2157, 0.1961, 0.1843]]],\n \n \n         [[[0.6627, 0.6627, 0.6627,  ..., 0.6431, 0.7059, 0.7451],\n           [0.6078, 0.6078, 0.6078,  ..., 0.6118, 0.6745, 0.7137],\n           [0.5216, 0.5216, 0.5216,  ..., 0.5647, 0.6314, 0.6706],\n           ...,\n           [0.6235, 0.6235, 0.6196,  ..., 0.6275, 0.6863, 0.7176],\n           [0.6235, 0.6235, 0.6235,  ..., 0.6275, 0.6863, 0.7176],\n           [0.6235, 0.6235, 0.6235,  ..., 0.6275, 0.6863, 0.7176]],\n \n          [[0.6000, 0.6000, 0.6000,  ..., 0.5882, 0.6510, 0.6902],\n           [0.5451, 0.5451, 0.5451,  ..., 0.5569, 0.6196, 0.6588],\n           [0.4588, 0.4588, 0.4588,  ..., 0.5098, 0.5765, 0.6157],\n           ...,\n           [0.5569, 0.5569, 0.5529,  ..., 0.5922, 0.6510, 0.6824],\n           [0.5569, 0.5569, 0.5569,  ..., 0.5922, 0.6510, 0.6824],\n           [0.5569, 0.5569, 0.5569,  ..., 0.5922, 0.6510, 0.6824]],\n \n          [[0.5098, 0.5098, 0.5098,  ..., 0.4824, 0.5490, 0.5882],\n           [0.4549, 0.4549, 0.4549,  ..., 0.4510, 0.5176, 0.5569],\n           [0.3686, 0.3686, 0.3686,  ..., 0.4039, 0.4745, 0.5137],\n           ...,\n           [0.4863, 0.4863, 0.4824,  ..., 0.5255, 0.5843, 0.6157],\n           [0.4863, 0.4863, 0.4863,  ..., 0.5255, 0.5843, 0.6157],\n           [0.4863, 0.4863, 0.4863,  ..., 0.5255, 0.5843, 0.6157]]],\n \n \n         [[[0.1569, 0.1490, 0.1412,  ..., 0.0667, 0.0588, 0.0549],\n           [0.1490, 0.1490, 0.1529,  ..., 0.0784, 0.0784, 0.0784],\n           [0.1569, 0.1608, 0.1647,  ..., 0.0745, 0.0706, 0.0706],\n           ...,\n           [0.0980, 0.0980, 0.0980,  ..., 0.2039, 0.1961, 0.1922],\n           [0.0784, 0.0784, 0.0784,  ..., 0.2157, 0.2078, 0.2039],\n           [0.0667, 0.0667, 0.0667,  ..., 0.2275, 0.2235, 0.2196]],\n \n          [[0.1569, 0.1529, 0.1490,  ..., 0.0706, 0.0667, 0.0667],\n           [0.1490, 0.1490, 0.1529,  ..., 0.0824, 0.0824, 0.0824],\n           [0.1569, 0.1608, 0.1647,  ..., 0.0784, 0.0745, 0.0745],\n           ...,\n           [0.0510, 0.0510, 0.0510,  ..., 0.2627, 0.2549, 0.2510],\n           [0.0314, 0.0314, 0.0314,  ..., 0.2745, 0.2667, 0.2627],\n           [0.0275, 0.0275, 0.0275,  ..., 0.2863, 0.2784, 0.2706]],\n \n          [[0.1569, 0.1490, 0.1373,  ..., 0.0902, 0.0863, 0.0863],\n           [0.1412, 0.1412, 0.1451,  ..., 0.1020, 0.1020, 0.1020],\n           [0.1490, 0.1529, 0.1529,  ..., 0.0980, 0.0941, 0.0941],\n           ...,\n           [0.0510, 0.0510, 0.0510,  ..., 0.4235, 0.4157, 0.4118],\n           [0.0392, 0.0353, 0.0314,  ..., 0.4431, 0.4353, 0.4314],\n           [0.0314, 0.0314, 0.0314,  ..., 0.4549, 0.4510, 0.4471]]],\n \n \n         ...,\n \n \n         [[[0.1451, 0.0784, 0.0314,  ..., 0.1804, 0.1765, 0.2039],\n           [0.1490, 0.0824, 0.0392,  ..., 0.1804, 0.1804, 0.2039],\n           [0.1569, 0.0902, 0.0471,  ..., 0.1843, 0.1843, 0.2039],\n           ...,\n           [0.4706, 0.4706, 0.4667,  ..., 0.7961, 0.7961, 0.8000],\n           [0.4549, 0.4549, 0.4510,  ..., 0.7922, 0.7961, 0.8039],\n           [0.4471, 0.4471, 0.4392,  ..., 0.7922, 0.7961, 0.8039]],\n \n          [[0.1765, 0.1020, 0.0471,  ..., 0.0627, 0.0667, 0.0706],\n           [0.1725, 0.0980, 0.0471,  ..., 0.0627, 0.0706, 0.0706],\n           [0.1686, 0.0941, 0.0471,  ..., 0.0667, 0.0745, 0.0706],\n           ...,\n           [0.3255, 0.3255, 0.3137,  ..., 0.0078, 0.0000, 0.0000],\n           [0.3137, 0.3098, 0.2980,  ..., 0.0039, 0.0000, 0.0000],\n           [0.3059, 0.3020, 0.2902,  ..., 0.0039, 0.0000, 0.0000]],\n \n          [[0.1333, 0.1020, 0.0824,  ..., 0.0196, 0.0196, 0.0235],\n           [0.1333, 0.1020, 0.0824,  ..., 0.0196, 0.0235, 0.0235],\n           [0.1333, 0.1020, 0.0863,  ..., 0.0235, 0.0275, 0.0235],\n           ...,\n           [0.2549, 0.2510, 0.2510,  ..., 0.0784, 0.0745, 0.0706],\n           [0.2471, 0.2431, 0.2431,  ..., 0.0784, 0.0745, 0.0745],\n           [0.2431, 0.2392, 0.2392,  ..., 0.0784, 0.0745, 0.0745]]],\n \n \n         [[[0.8471, 0.8706, 0.8706,  ..., 0.8314, 0.8314, 0.8353],\n           [0.8627, 0.8667, 0.8667,  ..., 0.8157, 0.8196, 0.8235],\n           [0.8706, 0.8667, 0.8588,  ..., 0.8196, 0.8196, 0.8196],\n           ...,\n           [0.2431, 0.2235, 0.1804,  ..., 0.3451, 0.3216, 0.3255],\n           [0.2392, 0.2235, 0.1961,  ..., 0.3333, 0.3098, 0.3137],\n           [0.2392, 0.2196, 0.1882,  ..., 0.3373, 0.3137, 0.3176]],\n \n          [[0.8863, 0.9020, 0.8824,  ..., 0.8353, 0.8314, 0.8353],\n           [0.8902, 0.8863, 0.8784,  ..., 0.8392, 0.8353, 0.8392],\n           [0.8863, 0.8824, 0.8706,  ..., 0.8431, 0.8392, 0.8392],\n           ...,\n           [0.3294, 0.3020, 0.2706,  ..., 0.2667, 0.2549, 0.2549],\n           [0.3333, 0.2980, 0.2902,  ..., 0.2627, 0.2510, 0.2549],\n           [0.3333, 0.2941, 0.2824,  ..., 0.2667, 0.2510, 0.2588]],\n \n          [[0.8941, 0.9137, 0.9020,  ..., 0.8431, 0.8392, 0.8353],\n           [0.9020, 0.9020, 0.8980,  ..., 0.8471, 0.8392, 0.8392],\n           [0.9098, 0.9059, 0.8902,  ..., 0.8549, 0.8431, 0.8392],\n           ...,\n           [0.6078, 0.6000, 0.5608,  ..., 0.2627, 0.2549, 0.2706],\n           [0.5843, 0.5647, 0.5725,  ..., 0.2471, 0.2471, 0.2824],\n           [0.5843, 0.5608, 0.5647,  ..., 0.2510, 0.2510, 0.2863]]],\n \n \n         [[[0.8275, 0.7765, 0.7725,  ..., 0.7294, 0.7255, 0.7686],\n           [0.8078, 0.7529, 0.7490,  ..., 0.7059, 0.7020, 0.7451],\n           [0.8000, 0.7451, 0.7451,  ..., 0.6980, 0.6941, 0.7412],\n           ...,\n           [0.7412, 0.6980, 0.6824,  ..., 0.6627, 0.6549, 0.7333],\n           [0.7490, 0.7098, 0.6941,  ..., 0.7137, 0.6824, 0.7373],\n           [0.8000, 0.7725, 0.7569,  ..., 0.7451, 0.7020, 0.7333]],\n \n          [[0.7647, 0.7137, 0.7098,  ..., 0.6706, 0.6667, 0.7098],\n           [0.7451, 0.6902, 0.6863,  ..., 0.6471, 0.6431, 0.6863],\n           [0.7373, 0.6824, 0.6824,  ..., 0.6392, 0.6353, 0.6824],\n           ...,\n           [0.6627, 0.6196, 0.6039,  ..., 0.5765, 0.5686, 0.6471],\n           [0.6706, 0.6314, 0.6157,  ..., 0.6314, 0.6000, 0.6510],\n           [0.7216, 0.6941, 0.6784,  ..., 0.6667, 0.6235, 0.6549]],\n \n          [[0.6353, 0.5843, 0.5804,  ..., 0.5412, 0.5451, 0.5882],\n           [0.6157, 0.5608, 0.5569,  ..., 0.5176, 0.5216, 0.5647],\n           [0.6078, 0.5529, 0.5529,  ..., 0.5098, 0.5137, 0.5608],\n           ...,\n           [0.5216, 0.4824, 0.4667,  ..., 0.4196, 0.4157, 0.4941],\n           [0.5255, 0.4902, 0.4784,  ..., 0.4784, 0.4471, 0.5020],\n           [0.5765, 0.5529, 0.5412,  ..., 0.5216, 0.4784, 0.5098]]]]),\n tensor([ 1,  3,  8,  8,  3,  4, 11,  3,  2,  1, 10, 11,  9,  5,  7,  3])]"
     },
     "execution_count": 3,
     "metadata": {},
     "output_type": "execute_result"
    }
   ],
   "source": [
    "from torchvision.transforms import transforms as T\n",
    "from PIL import Image\n",
    "\n",
    "class Cat12Dataset(Dataset):\n",
    "    def __init__(self, annotations_file, img_dir, transform=None):\n",
    "        self.img_labels = pd.read_csv(annotations_file, sep='\\t', header=None)\n",
    "        self.img_dir = img_dir\n",
    "        self.transform = transform\n",
    "\n",
    "    def __len__(self):\n",
    "        return len(self.img_labels)\n",
    "\n",
    "    def __getitem__(self, idx):\n",
    "        img_path = os.path.join(self.img_dir, self.img_labels.iloc[idx, 0])\n",
    "        # image = torchvision.io.read_image(img_path) / 255.0\n",
    "        image = Image.open(img_path).convert('RGB')\n",
    "        label = self.img_labels.iloc[idx, 1]\n",
    "        if self.transform:\n",
    "            image = self.transform(image)\n",
    "        return image, label\n",
    "\n",
    "\n",
    "dataset_path = 'D:\\\\code\\\\python\\\\datasets'\n",
    "cat12_path = os.path.join(dataset_path, 'cat12_classification')\n",
    "anno_file_path = os.path.join(cat12_path, 'train_list.txt')\n",
    "img_path = os.path.join(cat12_path, 'cat_12_train')\n",
    "transforms = [\n",
    "    T.Resize([224, 224]),\n",
    "    T.RandomHorizontalFlip(0.3),\n",
    "    T.RandomVerticalFlip(0.3),\n",
    "    T.ToTensor(),\n",
    "]\n",
    "transforms = T.Compose(transforms)\n",
    "cat_12_dataset = Cat12Dataset(anno_file_path, img_path, transform=transforms)\n",
    "train_loader = DataLoader(cat_12_dataset, batch_size=batch_size, shuffle=True)\n",
    "next(iter(train_loader))"
   ],
   "metadata": {
    "collapsed": false
   }
  },
  {
   "cell_type": "markdown",
   "source": [
    "## prepare the network"
   ],
   "metadata": {
    "collapsed": false
   }
  },
  {
   "cell_type": "code",
   "execution_count": 13,
   "outputs": [
    {
     "name": "stderr",
     "output_type": "stream",
     "text": [
      "C:\\Users\\admin\\AppData\\Local\\Temp\\ipykernel_21308\\1478539765.py:9: UserWarning: nn.init.xavier_uniform is now deprecated in favor of nn.init.xavier_uniform_.\n",
      "  nn.init.xavier_uniform(self.classifer.weight)\n"
     ]
    },
    {
     "data": {
      "text/plain": "tensor([[-0.0378, -0.9124,  0.2419, -0.4415, -0.3957,  0.7750,  0.0911,  1.4446,\n         -0.3541, -0.2201,  0.2108,  1.0582]], grad_fn=<AddmmBackward0>)"
     },
     "execution_count": 13,
     "metadata": {},
     "output_type": "execute_result"
    }
   ],
   "source": [
    "class PretrainedResnet50(nn.Module):\n",
    "    def __init__(self, num_classes):\n",
    "        super(PretrainedResnet50, self).__init__()\n",
    "        self.num_classes = num_classes\n",
    "        self.backbone = torchvision.models.resnet50(weights=torchvision.models.ResNet50_Weights.IMAGENET1K_V1)\n",
    "        self.backbone = torch.nn.Sequential(*(list(self.backbone.children())[:-1]))\n",
    "        self.flatten = nn.Flatten()\n",
    "        self.classifer = nn.Linear(2048, self.num_classes, bias=True)\n",
    "        nn.init.xavier_uniform(self.classifer.weight)\n",
    "\n",
    "    def forward(self, x):\n",
    "        x = self.backbone(x)\n",
    "        x = self.flatten(x)\n",
    "        x = self.classifer(x)\n",
    "        return x\n",
    "\n",
    "simple_net = nn.Sequential(\n",
    "    nn.Conv2d(3, 16, kernel_size=3, padding=1),\n",
    "    nn.ReLU(),\n",
    "    nn.BatchNorm2d(16),\n",
    "    nn.MaxPool2d(kernel_size=3),\n",
    "\n",
    "    nn.Conv2d(16, 32, kernel_size=3, padding=1),\n",
    "    nn.ReLU(),\n",
    "    nn.BatchNorm2d(32),\n",
    "    nn.MaxPool2d(kernel_size=3),\n",
    "\n",
    "    nn.Conv2d(32, 64, kernel_size=3, padding=1),\n",
    "    nn.ReLU(),\n",
    "    nn.BatchNorm2d(64),\n",
    "    nn.MaxPool2d(kernel_size=3),\n",
    "\n",
    "    nn.Conv2d(64, 32, kernel_size=3, padding=1),\n",
    "    nn.ReLU(),\n",
    "    nn.BatchNorm2d(32),\n",
    "    nn.MaxPool2d(kernel_size=3),\n",
    "\n",
    "    nn.Conv2d(32, 32, kernel_size=3, padding=1),\n",
    "    nn.ReLU(),\n",
    "    nn.BatchNorm2d(32),\n",
    "\n",
    "    nn.AdaptiveAvgPool2d(output_size=(1, 1)),\n",
    "    nn.Flatten(),\n",
    "    nn.Linear(32, num_classes)\n",
    ")\n",
    "\n",
    "net = PretrainedResnet50(num_classes=num_classes)\n",
    "# net = simple_net\n",
    "net(torch.rand((1,3,224,224)))"
   ],
   "metadata": {
    "collapsed": false
   }
  },
  {
   "cell_type": "markdown",
   "source": [
    "## start training"
   ],
   "metadata": {
    "collapsed": false
   }
  },
  {
   "cell_type": "code",
   "execution_count": 14,
   "outputs": [
    {
     "name": "stdout",
     "output_type": "stream",
     "text": [
      "start training 1\n",
      "epoch:1, mean loss: 0.08034447794435201, time cost: 2165.7837524414062 seconds, imgnum: 2160\n",
      "save weights successfully.\n",
      "start training 2\n",
      "epoch:2, mean loss: 0.026703220323004106, time cost: 2157.387532711029 seconds, imgnum: 2160\n",
      "save weights successfully.\n",
      "start training 3\n",
      "epoch:3, mean loss: 0.017371856171154866, time cost: 2152.631463766098 seconds, imgnum: 2160\n",
      "save weights successfully.\n",
      "start training 4\n",
      "epoch:4, mean loss: 0.013771994341233815, time cost: 2224.7634887695312 seconds, imgnum: 2160\n",
      "save weights successfully.\n",
      "start training 5\n",
      "epoch:5, mean loss: 0.008497150270785722, time cost: 2185.9317770004272 seconds, imgnum: 2160\n",
      "save weights successfully.\n",
      "start training 6\n",
      "epoch:6, mean loss: 0.008411633007711283, time cost: 2171.4820413589478 seconds, imgnum: 2160\n",
      "save weights successfully.\n",
      "start training 7\n",
      "epoch:7, mean loss: 0.0069087716298074356, time cost: 2180.850682258606 seconds, imgnum: 2160\n",
      "save weights successfully.\n",
      "start training 8\n",
      "epoch:8, mean loss: 0.0051297576979440805, time cost: 2157.8608446121216 seconds, imgnum: 2160\n",
      "save weights successfully.\n",
      "start training 9\n",
      "epoch:9, mean loss: 0.004670191779775821, time cost: 2129.2004375457764 seconds, imgnum: 2160\n",
      "save weights successfully.\n",
      "start training 10\n",
      "epoch:10, mean loss: 0.004258285805203573, time cost: 2139.855094909668 seconds, imgnum: 2160\n",
      "save weights successfully.\n",
      "start training 11\n"
     ]
    },
    {
     "ename": "KeyboardInterrupt",
     "evalue": "",
     "output_type": "error",
     "traceback": [
      "\u001B[1;31m---------------------------------------------------------------------------\u001B[0m",
      "\u001B[1;31mKeyboardInterrupt\u001B[0m                         Traceback (most recent call last)",
      "Input \u001B[1;32mIn [14]\u001B[0m, in \u001B[0;36m<cell line: 12>\u001B[1;34m()\u001B[0m\n\u001B[0;32m     21\u001B[0m preds \u001B[38;5;241m=\u001B[39m net(imgs)\n\u001B[0;32m     22\u001B[0m l \u001B[38;5;241m=\u001B[39m criterion(preds, targets)\u001B[38;5;241m.\u001B[39mmean(\u001B[38;5;241m-\u001B[39m\u001B[38;5;241m1\u001B[39m)\u001B[38;5;241m.\u001B[39msum()\n\u001B[1;32m---> 23\u001B[0m \u001B[43ml\u001B[49m\u001B[38;5;241;43m.\u001B[39;49m\u001B[43mbackward\u001B[49m\u001B[43m(\u001B[49m\u001B[43m)\u001B[49m\n\u001B[0;32m     24\u001B[0m optimizer\u001B[38;5;241m.\u001B[39mstep()\n\u001B[0;32m     26\u001B[0m total_loss \u001B[38;5;241m+\u001B[39m\u001B[38;5;241m=\u001B[39m l\u001B[38;5;241m.\u001B[39mitem()\n",
      "File \u001B[1;32mD:\\code_software\\miniconda\\envs\\pytorchcpu\\lib\\site-packages\\torch\\_tensor.py:396\u001B[0m, in \u001B[0;36mTensor.backward\u001B[1;34m(self, gradient, retain_graph, create_graph, inputs)\u001B[0m\n\u001B[0;32m    387\u001B[0m \u001B[38;5;28;01mif\u001B[39;00m has_torch_function_unary(\u001B[38;5;28mself\u001B[39m):\n\u001B[0;32m    388\u001B[0m     \u001B[38;5;28;01mreturn\u001B[39;00m handle_torch_function(\n\u001B[0;32m    389\u001B[0m         Tensor\u001B[38;5;241m.\u001B[39mbackward,\n\u001B[0;32m    390\u001B[0m         (\u001B[38;5;28mself\u001B[39m,),\n\u001B[1;32m   (...)\u001B[0m\n\u001B[0;32m    394\u001B[0m         create_graph\u001B[38;5;241m=\u001B[39mcreate_graph,\n\u001B[0;32m    395\u001B[0m         inputs\u001B[38;5;241m=\u001B[39minputs)\n\u001B[1;32m--> 396\u001B[0m \u001B[43mtorch\u001B[49m\u001B[38;5;241;43m.\u001B[39;49m\u001B[43mautograd\u001B[49m\u001B[38;5;241;43m.\u001B[39;49m\u001B[43mbackward\u001B[49m\u001B[43m(\u001B[49m\u001B[38;5;28;43mself\u001B[39;49m\u001B[43m,\u001B[49m\u001B[43m \u001B[49m\u001B[43mgradient\u001B[49m\u001B[43m,\u001B[49m\u001B[43m \u001B[49m\u001B[43mretain_graph\u001B[49m\u001B[43m,\u001B[49m\u001B[43m \u001B[49m\u001B[43mcreate_graph\u001B[49m\u001B[43m,\u001B[49m\u001B[43m \u001B[49m\u001B[43minputs\u001B[49m\u001B[38;5;241;43m=\u001B[39;49m\u001B[43minputs\u001B[49m\u001B[43m)\u001B[49m\n",
      "File \u001B[1;32mD:\\code_software\\miniconda\\envs\\pytorchcpu\\lib\\site-packages\\torch\\autograd\\__init__.py:173\u001B[0m, in \u001B[0;36mbackward\u001B[1;34m(tensors, grad_tensors, retain_graph, create_graph, grad_variables, inputs)\u001B[0m\n\u001B[0;32m    168\u001B[0m     retain_graph \u001B[38;5;241m=\u001B[39m create_graph\n\u001B[0;32m    170\u001B[0m \u001B[38;5;66;03m# The reason we repeat same the comment below is that\u001B[39;00m\n\u001B[0;32m    171\u001B[0m \u001B[38;5;66;03m# some Python versions print out the first line of a multi-line function\u001B[39;00m\n\u001B[0;32m    172\u001B[0m \u001B[38;5;66;03m# calls in the traceback and some print out the last line\u001B[39;00m\n\u001B[1;32m--> 173\u001B[0m \u001B[43mVariable\u001B[49m\u001B[38;5;241;43m.\u001B[39;49m\u001B[43m_execution_engine\u001B[49m\u001B[38;5;241;43m.\u001B[39;49m\u001B[43mrun_backward\u001B[49m\u001B[43m(\u001B[49m\u001B[43m  \u001B[49m\u001B[38;5;66;43;03m# Calls into the C++ engine to run the backward pass\u001B[39;49;00m\n\u001B[0;32m    174\u001B[0m \u001B[43m    \u001B[49m\u001B[43mtensors\u001B[49m\u001B[43m,\u001B[49m\u001B[43m \u001B[49m\u001B[43mgrad_tensors_\u001B[49m\u001B[43m,\u001B[49m\u001B[43m \u001B[49m\u001B[43mretain_graph\u001B[49m\u001B[43m,\u001B[49m\u001B[43m \u001B[49m\u001B[43mcreate_graph\u001B[49m\u001B[43m,\u001B[49m\u001B[43m \u001B[49m\u001B[43minputs\u001B[49m\u001B[43m,\u001B[49m\n\u001B[0;32m    175\u001B[0m \u001B[43m    \u001B[49m\u001B[43mallow_unreachable\u001B[49m\u001B[38;5;241;43m=\u001B[39;49m\u001B[38;5;28;43;01mTrue\u001B[39;49;00m\u001B[43m,\u001B[49m\u001B[43m \u001B[49m\u001B[43maccumulate_grad\u001B[49m\u001B[38;5;241;43m=\u001B[39;49m\u001B[38;5;28;43;01mTrue\u001B[39;49;00m\u001B[43m)\u001B[49m\n",
      "\u001B[1;31mKeyboardInterrupt\u001B[0m: "
     ]
    }
   ],
   "source": [
    "from torch.optim import SGD\n",
    "from torch.nn import CrossEntropyLoss\n",
    "\n",
    "optimizer = SGD(net.parameters(), lr=lr, momentum=momentum, weight_decay=weight_decay)\n",
    "criterion = CrossEntropyLoss(reduction='none')\n",
    "epoches = 20\n",
    "weight_path = './cat_12_classification_resnet50.pth'\n",
    "# weight_path = './cat_12_classification_simple.pth'\n",
    "if os.path.exists(weight_path):\n",
    "    net.load_state_dict(torch.load(weight_path))\n",
    "\n",
    "for epoch in range(1, epoches + 1):\n",
    "    print(f'start training {epoch}')\n",
    "    start_time = time.time()\n",
    "    total_loss = 0\n",
    "    total_image_num = 0\n",
    "    for batch in train_loader:\n",
    "        imgs, targets = batch\n",
    "        img_num = imgs.shape[0]\n",
    "        optimizer.zero_grad()\n",
    "        preds = net(imgs)\n",
    "        l = criterion(preds, targets).mean(-1).sum()\n",
    "        l.backward()\n",
    "        optimizer.step()\n",
    "\n",
    "        total_loss += l.item()\n",
    "        total_image_num += img_num\n",
    "    end_time = time.time()\n",
    "    print(f'epoch:{epoch}, mean loss: {total_loss / total_image_num}, time cost: {end_time - start_time} seconds, imgnum: {total_image_num}')\n",
    "    torch.save(net.state_dict(), weight_path)\n",
    "    print('save weights successfully.')"
   ],
   "metadata": {
    "collapsed": false
   }
  }
 ],
 "metadata": {
  "kernelspec": {
   "display_name": "Python 3",
   "language": "python",
   "name": "python3"
  },
  "language_info": {
   "codemirror_mode": {
    "name": "ipython",
    "version": 2
   },
   "file_extension": ".py",
   "mimetype": "text/x-python",
   "name": "python",
   "nbconvert_exporter": "python",
   "pygments_lexer": "ipython2",
   "version": "2.7.6"
  }
 },
 "nbformat": 4,
 "nbformat_minor": 0
}
